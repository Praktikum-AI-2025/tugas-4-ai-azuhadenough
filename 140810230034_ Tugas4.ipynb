{
 "cells": [
  {
   "cell_type": "markdown",
   "id": "489739a1",
   "metadata": {},
   "source": [
    "\n",
    "# Klasifikasi Gambar: Horse vs Human\n",
    "\n",
    "Notebook ini membangun dan melatih model neural network untuk mengklasifikasikan gambar antara kuda dan manusia.\n",
    "Dataset digunakan dari [Laurence Moroney](https://laurencemoroney.com). Target akurasi adalah >83%.\n"
   ]
  },
  {
   "cell_type": "code",
   "execution_count": null,
   "id": "f4670976-fd04-47c1-a246-2fc8eca40479",
   "metadata": {},
   "outputs": [],
   "source": [
    "#Achmad Dzaki Azhari\n",
    "#140810230034"
   ]
  },
  {
   "cell_type": "code",
   "execution_count": null,
   "id": "877ebae9",
   "metadata": {},
   "outputs": [],
   "source": [
    "\n",
    "import urllib.request\n",
    "import zipfile\n",
    "import tensorflow as tf\n",
    "import os\n",
    "from keras_preprocessing.image import ImageDataGenerator\n"
   ]
  },
  {
   "cell_type": "code",
   "execution_count": null,
   "id": "8e63ffcf",
   "metadata": {},
   "outputs": [],
   "source": [
    "\n",
    "# Unduh dan ekstrak data training\n",
    "data_url_1 = 'https://github.com/dicodingacademy/assets/releases/download/release-horse-or-human/horse-or-human.zip'\n",
    "urllib.request.urlretrieve(data_url_1, 'horse-or-human.zip')\n",
    "with zipfile.ZipFile('horse-or-human.zip', 'r') as zip_ref:\n",
    "    zip_ref.extractall('data/horse-or-human')\n",
    "\n",
    "# Unduh dan ekstrak data validasi\n",
    "data_url_2 = 'https://github.com/dicodingacademy/assets/raw/main/Simulation/machine_learning/validation-horse-or-human.zip'\n",
    "urllib.request.urlretrieve(data_url_2, 'validation-horse-or-human.zip')\n",
    "with zipfile.ZipFile('validation-horse-or-human.zip', 'r') as zip_ref:\n",
    "    zip_ref.extractall('data/validation-horse-or-human')\n"
   ]
  },
  {
   "cell_type": "code",
   "execution_count": null,
   "id": "50c2585f",
   "metadata": {},
   "outputs": [],
   "source": [
    "\n",
    "TRAINING_DIR = 'data/horse-or-human'\n",
    "VALIDATION_DIR = 'data/validation-horse-or-human'\n",
    "\n",
    "train_datagen = ImageDataGenerator(\n",
    "    rescale=1/255,\n",
    "    rotation_range=40,\n",
    "    shear_range=0.2,\n",
    "    zoom_range=0.2,\n",
    "    horizontal_flip=True,\n",
    "    fill_mode='nearest'\n",
    ")\n",
    "\n",
    "validation_datagen = ImageDataGenerator(rescale=1./255)\n",
    "\n",
    "train_generator = train_datagen.flow_from_directory(\n",
    "    TRAINING_DIR,\n",
    "    target_size=(150, 150),\n",
    "    batch_size=32,\n",
    "    class_mode='binary'\n",
    ")\n",
    "\n",
    "validation_generator = validation_datagen.flow_from_directory(\n",
    "    VALIDATION_DIR,\n",
    "    target_size=(150, 150),\n",
    "    batch_size=32,\n",
    "    class_mode='binary'\n",
    ")\n"
   ]
  },
  {
   "cell_type": "code",
   "execution_count": null,
   "id": "72198e1b",
   "metadata": {},
   "outputs": [],
   "source": [
    "\n",
    "model = tf.keras.models.Sequential([\n",
    "    tf.keras.layers.Input(shape=(150, 150, 3)),\n",
    "    tf.keras.layers.Conv2D(16, (3,3), activation='relu'),\n",
    "    tf.keras.layers.MaxPooling2D(2,2),\n",
    "\n",
    "    tf.keras.layers.Conv2D(32, (3,3), activation='relu'),\n",
    "    tf.keras.layers.MaxPooling2D(2,2),\n",
    "\n",
    "    tf.keras.layers.Conv2D(64, (3,3), activation='relu'),\n",
    "    tf.keras.layers.MaxPooling2D(2,2),\n",
    "\n",
    "    tf.keras.layers.Conv2D(128, (3,3), activation='relu'),\n",
    "    tf.keras.layers.MaxPooling2D(2,2),\n",
    "\n",
    "    tf.keras.layers.Conv2D(256, (3,3), activation='relu'),\n",
    "    tf.keras.layers.MaxPooling2D(2,2),\n",
    "\n",
    "    tf.keras.layers.Flatten(),\n",
    "    tf.keras.layers.Dropout(0.3),\n",
    "    tf.keras.layers.Dense(512, activation='relu'),\n",
    "    tf.keras.layers.Dense(256, activation='relu'),\n",
    "    tf.keras.layers.Dense(1, activation='sigmoid')  # Output layer\n",
    "])\n"
   ]
  },
  {
   "cell_type": "code",
   "execution_count": null,
   "id": "1cf908f0",
   "metadata": {},
   "outputs": [],
   "source": [
    "\n",
    "model.compile(\n",
    "    loss='binary_crossentropy',\n",
    "    optimizer=tf.keras.optimizers.RMSprop(learning_rate=0.001),\n",
    "    metrics=['accuracy']\n",
    ")\n"
   ]
  },
  {
   "cell_type": "code",
   "execution_count": null,
   "id": "34b31c6a",
   "metadata": {},
   "outputs": [],
   "source": [
    "\n",
    "\n",
    "history = model.fit(\n",
    "    train_generator,\n",
    "    epochs=20,\n",
    "    validation_data=validation_generator,\n",
    "    verbose=1\n",
    ")\n"
   ]
  },
  {
   "cell_type": "code",
   "execution_count": null,
   "id": "49fe021d",
   "metadata": {},
   "outputs": [],
   "source": [
    "\n",
    "model.save(\"model_05.h5\")\n",
    "print(\"Model saved as model_05.h5\")\n"
   ]
  }
 ],
 "metadata": {
  "kernelspec": {
   "display_name": "Python 3 (ipykernel)",
   "language": "python",
   "name": "python3"
  },
  "language_info": {
   "codemirror_mode": {
    "name": "ipython",
    "version": 3
   },
   "file_extension": ".py",
   "mimetype": "text/x-python",
   "name": "python",
   "nbconvert_exporter": "python",
   "pygments_lexer": "ipython3",
   "version": "3.12.10"
  }
 },
 "nbformat": 4,
 "nbformat_minor": 5
}
